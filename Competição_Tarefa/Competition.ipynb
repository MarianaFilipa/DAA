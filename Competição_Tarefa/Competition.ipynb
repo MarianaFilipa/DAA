{
 "cells": [
  {
   "cell_type": "markdown",
   "id": "fdb687ff-a2b4-45bd-b97c-2949734da5bb",
   "metadata": {},
   "source": [
    "# Trabalho Prático: Competição Kaggle"
   ]
  },
  {
   "cell_type": "markdown",
   "id": "8317988f-7352-43c5-ad4d-9364ea4c65a0",
   "metadata": {},
   "source": [
    "## Imports:"
   ]
  },
  {
   "cell_type": "code",
   "execution_count": 121,
   "id": "ddf8efa5-dec6-4c78-81be-284bbdb05dc6",
   "metadata": {},
   "outputs": [],
   "source": [
    "import pandas as pd\n",
    "import numpy as np\n",
    "import matplotlib.pyplot as plt\n",
    "import seaborn as sns\n",
    "\n",
    "from sklearn.model_selection import train_test_split, GridSearchCV, RepeatedKFold, cross_val_score\n",
    "from sklearn.linear_model import LinearRegression, LogisticRegression\n",
    "from sklearn.metrics import mean_squared_error, mean_absolute_error, plot_confusion_matrix,ConfusionMatrixDisplay, classification_report\n",
    "\n",
    "from sklearn.svm import SVC\n",
    "from sklearn import tree\n",
    "from sklearn.tree import DecisionTreeClassifier\n",
    "from sklearn.ensemble import RandomForestClassifier"
   ]
  },
  {
   "cell_type": "markdown",
   "id": "2dfb28b1-c833-4475-8f4b-8bfcfa95043f",
   "metadata": {},
   "source": [
    "## Read DataSet"
   ]
  },
  {
   "cell_type": "code",
   "execution_count": 122,
   "id": "b66b8fc8-2a24-4c2a-8ab1-779e2609875a",
   "metadata": {},
   "outputs": [],
   "source": [
    "df = pd.read_csv(\"sbstpdaa2223/training_data.csv\")"
   ]
  },
  {
   "cell_type": "markdown",
   "id": "119b3b1e-d385-40ab-abc3-695ff4c85093",
   "metadata": {},
   "source": [
    "## Data Visualization"
   ]
  },
  {
   "cell_type": "code",
   "execution_count": 123,
   "id": "f61d5a4d-9cc3-48c1-94c4-10ef11e2ed20",
   "metadata": {},
   "outputs": [
    {
     "name": "stdout",
     "output_type": "stream",
     "text": [
      "** INFO **\n",
      "<class 'pandas.core.frame.DataFrame'>\n",
      "RangeIndex: 5000 entries, 0 to 4999\n",
      "Data columns (total 13 columns):\n",
      " #   Column              Non-Null Count  Dtype  \n",
      "---  ------              --------------  -----  \n",
      " 0   city_name           5000 non-null   object \n",
      " 1   magnitude_of_delay  5000 non-null   object \n",
      " 2   delay_in_seconds    5000 non-null   int64  \n",
      " 3   affected_roads      4915 non-null   object \n",
      " 4   record_date         5000 non-null   object \n",
      " 5   luminosity          5000 non-null   object \n",
      " 6   avg_temperature     5000 non-null   float64\n",
      " 7   avg_atm_pressure    5000 non-null   float64\n",
      " 8   avg_humidity        5000 non-null   float64\n",
      " 9   avg_wind_speed      5000 non-null   float64\n",
      " 10  avg_precipitation   5000 non-null   float64\n",
      " 11  avg_rain            5000 non-null   object \n",
      " 12  incidents           5000 non-null   object \n",
      "dtypes: float64(5), int64(1), object(7)\n",
      "memory usage: 507.9+ KB\n",
      "None\n",
      "** HEAD **\n",
      "   city_name magnitude_of_delay  delay_in_seconds  \\\n",
      "0  Guimaraes          UNDEFINED                 0   \n",
      "1  Guimaraes          UNDEFINED               385   \n",
      "2  Guimaraes          UNDEFINED                69   \n",
      "3  Guimaraes              MAJOR              2297   \n",
      "4  Guimaraes          UNDEFINED                 0   \n",
      "\n",
      "                                      affected_roads       record_date  \\\n",
      "0                                                  ,  2021-03-15 23:00   \n",
      "1                                              N101,  2021-12-25 18:00   \n",
      "2                                                  ,  2021-03-12 15:00   \n",
      "3  N101,R206,N105,N101,N101,N101,N101,N101,N101,N...  2021-09-29 09:00   \n",
      "4                          N101,N101,N101,N101,N101,  2021-06-13 11:00   \n",
      "\n",
      "  luminosity  avg_temperature  avg_atm_pressure  avg_humidity  avg_wind_speed  \\\n",
      "0       DARK             12.0            1013.0          70.0             1.0   \n",
      "1       DARK             12.0            1007.0          91.0             1.0   \n",
      "2      LIGHT             14.0            1025.0          64.0             0.0   \n",
      "3      LIGHT             15.0            1028.0          75.0             1.0   \n",
      "4      LIGHT             27.0            1020.0          52.0             1.0   \n",
      "\n",
      "   avg_precipitation   avg_rain  incidents  \n",
      "0                0.0  Sem Chuva       None  \n",
      "1                0.0  Sem Chuva       None  \n",
      "2                0.0  Sem Chuva        Low  \n",
      "3                0.0  Sem Chuva  Very_High  \n",
      "4                0.0  Sem Chuva       High  \n",
      "** NULL VALUES?? **\n",
      "city_name              0\n",
      "magnitude_of_delay     0\n",
      "delay_in_seconds       0\n",
      "affected_roads        85\n",
      "record_date            0\n",
      "luminosity             0\n",
      "avg_temperature        0\n",
      "avg_atm_pressure       0\n",
      "avg_humidity           0\n",
      "avg_wind_speed         0\n",
      "avg_precipitation      0\n",
      "avg_rain               0\n",
      "incidents              0\n",
      "dtype: int64\n"
     ]
    }
   ],
   "source": [
    "print(\"** INFO **\")\n",
    "print(df.info())\n",
    "#print(\"** DESCRIBE **\")\n",
    "#print(df.describe())\n",
    "print(\"** HEAD **\")\n",
    "print(df.head())\n",
    "#print(\"** CORR MATRIX **\")\n",
    "#sns.heatmap(df.corr())\n",
    "#plt.show()\n",
    "print(\"** NULL VALUES?? **\") # check if there are any missing values in this dataframe\n",
    "print(df.isnull().sum())"
   ]
  },
  {
   "cell_type": "markdown",
   "id": "115c049c-f07e-4206-931a-499e350e645a",
   "metadata": {},
   "source": [
    "### Análise da Data Visualization:\n",
    "\n",
    "* Primeira coisa que podemos observar é que neste data set existem dados categoricos, contudo, as funções disponibilizadas pelo sklearn só trabalham com dados numéricos, portanto, é necessário, fazer encoding destes valores.\n",
    "\n",
    "* Podemos também observar a existência de missing values na coluna **affected_roads**. Para tratar estes podemos tentar diferentes abordagens. Podemos tentar fazer drop dessas linhas (dado que são relativamente poucas linhas 85 em 5000, contudo, devemos verificar se não muita perda de dados), ou replace by the mean (contudo, esta linha é do tipo categórico, temos que ver isso primeiro maybe).\n",
    "\n",
    "* Relembrar que a target label é a coluna **incidents**\n",
    "\n",
    "* Podemos constatar que a coluna **avg_precipitation** tem uma std igual 0, portanto, todos os valores são iguais. Assim, podemos observar que esta coluna não introduz muito para este modelo\n"
   ]
  },
  {
   "cell_type": "markdown",
   "id": "8c86b4ef-310a-4551-8a37-435a5eb4e7b7",
   "metadata": {},
   "source": [
    "## Preprocessing"
   ]
  },
  {
   "cell_type": "code",
   "execution_count": 124,
   "id": "44e0f1e2-21f3-4b0b-a959-ef1d1d032c14",
   "metadata": {},
   "outputs": [],
   "source": [
    "def getReplaceMap(df, nameColumn):\n",
    "    labels = df[nameColumn].astype('category').cat.categories.tolist()\n",
    "    replace_map = {nameColumn:{k: v for v,k in zip(labels,list(range(1,len(labels)+1)))}}\n",
    "    #print(replace_map)\n",
    "    return replace_map"
   ]
  },
  {
   "cell_type": "code",
   "execution_count": 125,
   "id": "ee328619-7103-4907-b2c8-07954f02981c",
   "metadata": {},
   "outputs": [],
   "source": [
    "def replaceRecordDate(df):\n",
    "    df['record_date'] = pd.to_datetime(df['record_date'], format = \"%Y-%m-%d %H:%M\", errors='coerce')\n",
    "\n",
    "    assert df['record_date'].isnull().sum() == 0, 'missing record date'\n",
    "    \n",
    "    df['record_date_year'] = df['record_date'].dt.year  #Não tem muito valor => todos estes acidentes foram no mesmo ano\n",
    "    \n",
    "    df['record_date_month'] = df['record_date'].dt.month\n",
    "    df['record_date_day'] = df['record_date'].dt.day\n",
    "    df['record_date_hour'] = df['record_date'].dt.hour\n",
    "    \n",
    "    df.drop('record_date', axis = 1, inplace= True)"
   ]
  },
  {
   "cell_type": "markdown",
   "id": "952afc69-a169-4e0f-91d6-9795850b399e",
   "metadata": {},
   "source": [
    "## Encoding Categorical Data\n",
    "\n",
    "* Utilizando label encoding"
   ]
  },
  {
   "cell_type": "code",
   "execution_count": 126,
   "id": "8291d253-a052-4861-ab1c-65046cc31c79",
   "metadata": {},
   "outputs": [
    {
     "name": "stdout",
     "output_type": "stream",
     "text": [
      "{'city_name': {1: 'Guimaraes'}}\n",
      "{'magnitude_of_delay': {1: 'MAJOR', 2: 'MODERATE', 3: 'UNDEFINED'}}\n"
     ]
    }
   ],
   "source": [
    "replace_map_city_name = getReplaceMap(df,'city_name')\n",
    "print(replace_map_city_name)\n",
    "df.replace(replace_map_city_name, inplace = True)\n",
    "\n",
    "replace_magnitude_delay = getReplaceMap(df,'magnitude_of_delay')\n",
    "print(replace_magnitude_delay)\n",
    "df.replace(replace_magnitude_delay, inplace=True)\n",
    "\n",
    "#replace_affected_roads = getReplaceMap(df, 'affected_roads')\n",
    "#df.replace(replace_affected_roads, inplace = True)\n",
    "\n",
    "replace_luminosity = getReplaceMap(df, 'luminosity')\n",
    "df.replace(replace_luminosity, inplace=True)\n",
    "replace_avg_rain = getReplaceMap(df, 'avg_rain')\n",
    "df.replace(replace_avg_rain, inplace=True)\n",
    "\n",
    "replace_incidents = getReplaceMap(df, 'incidents')\n",
    "df.replace(replace_incidents, inplace=True)\n",
    "\n",
    "#replaceRecordDate(df)"
   ]
  },
  {
   "cell_type": "markdown",
   "id": "197ce5a8-a31b-4378-a896-261dc04b4ed2",
   "metadata": {
    "tags": []
   },
   "source": [
    "## Data Visualization After Encoding Categorical Data"
   ]
  },
  {
   "cell_type": "code",
   "execution_count": 127,
   "id": "5fad38ac-ec81-4ac5-b6ec-80ae347cc19f",
   "metadata": {},
   "outputs": [
    {
     "name": "stdout",
     "output_type": "stream",
     "text": [
      "** HEAD **\n",
      "   city_name magnitude_of_delay  delay_in_seconds  \\\n",
      "0  Guimaraes          UNDEFINED                 0   \n",
      "1  Guimaraes          UNDEFINED               385   \n",
      "2  Guimaraes          UNDEFINED                69   \n",
      "3  Guimaraes              MAJOR              2297   \n",
      "4  Guimaraes          UNDEFINED                 0   \n",
      "\n",
      "                                      affected_roads       record_date  \\\n",
      "0                                                  ,  2021-03-15 23:00   \n",
      "1                                              N101,  2021-12-25 18:00   \n",
      "2                                                  ,  2021-03-12 15:00   \n",
      "3  N101,R206,N105,N101,N101,N101,N101,N101,N101,N...  2021-09-29 09:00   \n",
      "4                          N101,N101,N101,N101,N101,  2021-06-13 11:00   \n",
      "\n",
      "  luminosity  avg_temperature  avg_atm_pressure  avg_humidity  avg_wind_speed  \\\n",
      "0       DARK             12.0            1013.0          70.0             1.0   \n",
      "1       DARK             12.0            1007.0          91.0             1.0   \n",
      "2      LIGHT             14.0            1025.0          64.0             0.0   \n",
      "3      LIGHT             15.0            1028.0          75.0             1.0   \n",
      "4      LIGHT             27.0            1020.0          52.0             1.0   \n",
      "\n",
      "   avg_precipitation   avg_rain  incidents  \n",
      "0                0.0  Sem Chuva       None  \n",
      "1                0.0  Sem Chuva       None  \n",
      "2                0.0  Sem Chuva        Low  \n",
      "3                0.0  Sem Chuva  Very_High  \n",
      "4                0.0  Sem Chuva       High  \n",
      "** DESCRIBE **\n",
      "       delay_in_seconds  avg_temperature  avg_atm_pressure  avg_humidity  \\\n",
      "count       5000.000000      5000.000000       5000.000000   5000.000000   \n",
      "mean         560.567000        14.583000       1018.145000     74.455000   \n",
      "std         1686.859581         4.820514          5.174372     17.204638   \n",
      "min            0.000000         1.000000        997.000000      6.000000   \n",
      "25%            0.000000        11.000000       1015.000000     63.000000   \n",
      "50%            0.000000        14.000000       1019.000000     78.000000   \n",
      "75%          234.000000        18.000000       1022.000000     90.000000   \n",
      "max        31083.000000        35.000000       1032.000000    100.000000   \n",
      "\n",
      "       avg_wind_speed  avg_precipitation  \n",
      "count     5000.000000             5000.0  \n",
      "mean         1.253500                0.0  \n",
      "std          1.269847                0.0  \n",
      "min          0.000000                0.0  \n",
      "25%          0.000000                0.0  \n",
      "50%          1.000000                0.0  \n",
      "75%          2.000000                0.0  \n",
      "max         10.000000                0.0  \n",
      "** CORR MATRIX **\n"
     ]
    },
    {
     "data": {
      "image/png": "[encoded data removed]",
      "text/plain": [
       "<Figure size 432x288 with 2 Axes>"
      ]
     },
     "metadata": {
      "needs_background": "light"
     },
     "output_type": "display_data"
    }
   ],
   "source": [
    "print(\"** HEAD **\")\n",
    "print(df.head())\n",
    "\n",
    "print(\"** DESCRIBE **\")\n",
    "print(df.describe())\n",
    "\n",
    "print(\"** CORR MATRIX **\")\n",
    "sns.heatmap(df.corr())\n",
    "plt.show()"
   ]
  },
  {
   "cell_type": "code",
   "execution_count": 128,
   "id": "4863a7f7-fce9-4208-9031-99bff48b0ae0",
   "metadata": {},
   "outputs": [],
   "source": [
    "def preprocessing(df, istest):\n",
    "    df.drop(['affected_roads'],axis=1, inplace = True)\n",
    "\n",
    "    # O atributo cidade não acrescenta nada, uma vez que tem todos os mesmo valor, e portanto não vai afetar o modelo\n",
    "    df.drop('city_name', axis = 1, inplace = True)\n",
    "\n",
    "    # O atributo avg_precipitation também é unico por isso não acrescenta muito \n",
    "    #print(df_no_city['avg_precipitation'].nunique())\n",
    "    df.drop('avg_precipitation', axis = 1, inplace = True)\n",
    "\n",
    "    labels = df['avg_rain'].astype('category').cat.categories.tolist()\n",
    "    replace_map_rain = {'avg_rain':{k: v for k,v in zip(labels,list(range(1,len(labels)+1)))}}\n",
    "    #print(replace_map_rain)\n",
    "    df.replace(replace_map_rain, inplace = True)\n",
    "\n",
    "    if(istest == True):\n",
    "        labels = df['incidents'].astype('category').cat.categories.tolist()\n",
    "        replace_map_incidents = {'incidents':{k: v for k,v in zip(labels,list(range(1,len(labels)+1)))}}\n",
    "        #print(replace_map_incidents)\n",
    "        df.replace(replace_map_incidents, inplace = True)\n",
    "\n",
    "\n",
    "    labels = df['magnitude_of_delay'].astype('category').cat.categories.tolist()\n",
    "    replace_map_delay = {'magnitude_of_delay':{k: v for k,v in zip(labels,list(range(1,len(labels)+1)))}}\n",
    "    #print(replace_map_delay)\n",
    "    df.replace(replace_map_delay, inplace = True)\n",
    "\n",
    "    labels = df['luminosity'].astype('category').cat.categories.tolist()\n",
    "    replace_map_luminosity = {'luminosity':{k: v for k,v in zip(labels,list(range(1,len(labels)+1)))}}\n",
    "    #print(replace_map_luminosity)\n",
    "    df.replace(replace_map_luminosity, inplace = True)\n",
    "\n",
    "\n",
    "    df['record_date'] = pd.to_datetime(df['record_date'], format = \"%Y-%m-%d %H:%M\", errors='coerce')\n",
    "\n",
    "    assert df['record_date'].isnull().sum() == 0, 'missing record date'\n",
    "    \n",
    "    #Não tem muito valor => todos estes acidentes foram no mesmo ano\n",
    "    #df['record_date_year'] = df['record_date'].dt.year\n",
    "    \n",
    "    df['record_date_month'] = df['record_date'].dt.month\n",
    "    df['record_date_day'] = df['record_date'].dt.day\n",
    "    df['record_date_hour'] = df['record_date'].dt.hour\n",
    "    \n",
    "    df.drop('record_date', axis = 1, inplace= True)"
   ]
  },
  {
   "cell_type": "markdown",
   "id": "f32c75de-21d0-4ef8-917a-1cb1867d5b09",
   "metadata": {},
   "source": [
    "## Get Model"
   ]
  },
  {
   "cell_type": "code",
   "execution_count": 129,
   "id": "275ab56d-332d-470c-9c14-e4d7c9555f79",
   "metadata": {},
   "outputs": [],
   "source": [
    "def getModel(modelType):\n",
    "    if (modelType == \"DecisionTree\"):\n",
    "        model = DecisionTreeClassifier(criterion = 'entropy', splitter = 'best', max_depth = 10)\n",
    "    elif(modelType == \"RandomForest\"):\n",
    "        model = RandomForestClassifier(criterion = 'entropy', n_estimators = 125)\n",
    "    else:\n",
    "        model = DecisionTreeClassifier(criterion = 'entropy', splitter = 'best')\n",
    "    return model\n",
    "\n",
    "\n",
    "def gridSearch(model, params):\n",
    "\n",
    "    cv = RepeatedKFold(n_splits=10, n_repeats=3, random_state=1)\n",
    "    grid = GridSearchCV(model,params,scoring='neg_mean_squared_error',n_jobs=-1, cv=cv)\n",
    "    \n",
    "    return grid"
   ]
  },
  {
   "cell_type": "code",
   "execution_count": 130,
   "id": "7633c2b6-acd1-4e3c-a7f1-426842189f1a",
   "metadata": {},
   "outputs": [],
   "source": [
    "def Split_Training_Test_Set(df):\n",
    "    X = df.drop(['incidents'], axis = 1)\n",
    "    y = df['incidents']\n",
    "    \n",
    "    X_train, X_test, y_train, y_test = train_test_split(X, y, test_size = 0.3)\n",
    "\n",
    "    return X_train, X_test, y_train, y_test"
   ]
  },
  {
   "cell_type": "markdown",
   "id": "0103b1b0-6b88-4391-80ad-190156d6cd79",
   "metadata": {},
   "source": [
    "## Train Models"
   ]
  },
  {
   "cell_type": "code",
   "execution_count": 131,
   "id": "506d6719-217a-42b8-bc20-6fcdd108420e",
   "metadata": {},
   "outputs": [],
   "source": [
    "def test_model(df):\n",
    "    X_train, X_test, y_train, y_test = Split_Training_Test_Set(df)\n",
    "\n",
    "    #Decision Tree Model\n",
    "    model = getModel(\"RandomForest\")\n",
    "\n",
    "    model = model.fit(X_train, y_train)\n",
    "    y_pred_tree = model.predict(X_test)\n",
    "    # Classification_report\n",
    "    print(classification_report(y_test,y_pred_tree))\n",
    "\n",
    "    scores = cross_val_score(model, X, y, cv=10)\n",
    "    print(scores.mean())\n",
    "\n",
    "    #Decision Tree:\n",
    "    # log_loss deu asneira\n",
    "    #params = {'criterion': ['gini', 'entropy'], 'splitter': ['best', 'random'], 'max_depth': [5,10,15]}    \n",
    "    #grid = gridSearch(model, params)\n",
    "    #grid = grid.fit(X, y)\n",
    "    #print(grid.best_params_)\n",
    "\n",
    "    #Random Forest Classifier:\n",
    "    # log_loss deu asneira\n",
    "    #params = {'criterion': ['entropy'], 'max_depth': [13,15,18], 'n_estimators': [120, 125, 130]}    \n",
    "    #grid = gridSearch(model, params)\n",
    "    #grid = grid.fit(X,y)\n",
    "    #print(grid.best_params_)"
   ]
  },
  {
   "cell_type": "markdown",
   "id": "9a270985-e1a6-41f5-9411-f6847cb8cc98",
   "metadata": {},
   "source": [
    "## Build File with Predictions"
   ]
  },
  {
   "cell_type": "code",
   "execution_count": 132,
   "id": "06b5d3f1-8f36-4da9-aea8-b0c9f91a769f",
   "metadata": {},
   "outputs": [],
   "source": [
    "def predict_doc(df):\n",
    "    ## TESTE\n",
    "    X = df.drop(['incidents'], axis = 1)\n",
    "    y = df['incidents']\n",
    "    modelTree = getModel(\"RandomForest\")\n",
    "    modelTree = modelTree.fit(X, y)\n",
    "\n",
    "\n",
    "    df_test = pd.read_csv(\"sbstpdaa2223/test_data.csv\")\n",
    "    preprocessing(df_test, False)\n",
    "\n",
    "    y_pred_tree = modelTree.predict(df_test)\n",
    "    # Classification_report\n",
    "    #print(classification_report(y_test,y_pred_tree))\n",
    "\n",
    "\n",
    "    pred = pd.DataFrame()\n",
    "    print(dictReplaceIncidents)\n",
    "\n",
    "    # RowId,Incidents\n",
    "    pred['RowId'] = range(1, len(y_pred_tree)+1)\n",
    "    pred['Incidents'] = y_pred_tree\n",
    "    pred.replace(dictReplaceIncidents, inplace=True)\n",
    "    pred.to_csv('Group16_Try2.csv', index = False)  "
   ]
  },
  {
   "cell_type": "code",
   "execution_count": 133,
   "id": "49c84602-4214-476d-a333-836387bb7e68",
   "metadata": {},
   "outputs": [
    {
     "name": "stdout",
     "output_type": "stream",
     "text": [
      "** INFO **\n",
      "<class 'pandas.core.frame.DataFrame'>\n",
      "RangeIndex: 5000 entries, 0 to 4999\n",
      "Data columns (total 13 columns):\n",
      " #   Column              Non-Null Count  Dtype  \n",
      "---  ------              --------------  -----  \n",
      " 0   city_name           5000 non-null   object \n",
      " 1   magnitude_of_delay  5000 non-null   object \n",
      " 2   delay_in_seconds    5000 non-null   int64  \n",
      " 3   affected_roads      4915 non-null   object \n",
      " 4   record_date         5000 non-null   object \n",
      " 5   luminosity          5000 non-null   object \n",
      " 6   avg_temperature     5000 non-null   float64\n",
      " 7   avg_atm_pressure    5000 non-null   float64\n",
      " 8   avg_humidity        5000 non-null   float64\n",
      " 9   avg_wind_speed      5000 non-null   float64\n",
      " 10  avg_precipitation   5000 non-null   float64\n",
      " 11  avg_rain            5000 non-null   object \n",
      " 12  incidents           5000 non-null   object \n",
      "dtypes: float64(5), int64(1), object(7)\n",
      "memory usage: 507.9+ KB\n",
      "None\n",
      "** DESCRIBE **\n",
      "       delay_in_seconds  avg_temperature  avg_atm_pressure  avg_humidity  \\\n",
      "count       5000.000000      5000.000000       5000.000000   5000.000000   \n",
      "mean         560.567000        14.583000       1018.145000     74.455000   \n",
      "std         1686.859581         4.820514          5.174372     17.204638   \n",
      "min            0.000000         1.000000        997.000000      6.000000   \n",
      "25%            0.000000        11.000000       1015.000000     63.000000   \n",
      "50%            0.000000        14.000000       1019.000000     78.000000   \n",
      "75%          234.000000        18.000000       1022.000000     90.000000   \n",
      "max        31083.000000        35.000000       1032.000000    100.000000   \n",
      "\n",
      "       avg_wind_speed  avg_precipitation  \n",
      "count     5000.000000             5000.0  \n",
      "mean         1.253500                0.0  \n",
      "std          1.269847                0.0  \n",
      "min          0.000000                0.0  \n",
      "25%          0.000000                0.0  \n",
      "50%          1.000000                0.0  \n",
      "75%          2.000000                0.0  \n",
      "max         10.000000                0.0  \n",
      "** HEAD **\n",
      "   city_name magnitude_of_delay  delay_in_seconds  \\\n",
      "0  Guimaraes          UNDEFINED                 0   \n",
      "1  Guimaraes          UNDEFINED               385   \n",
      "2  Guimaraes          UNDEFINED                69   \n",
      "3  Guimaraes              MAJOR              2297   \n",
      "4  Guimaraes          UNDEFINED                 0   \n",
      "\n",
      "                                      affected_roads       record_date  \\\n",
      "0                                                  ,  2021-03-15 23:00   \n",
      "1                                              N101,  2021-12-25 18:00   \n",
      "2                                                  ,  2021-03-12 15:00   \n",
      "3  N101,R206,N105,N101,N101,N101,N101,N101,N101,N...  2021-09-29 09:00   \n",
      "4                          N101,N101,N101,N101,N101,  2021-06-13 11:00   \n",
      "\n",
      "  luminosity  avg_temperature  avg_atm_pressure  avg_humidity  avg_wind_speed  \\\n",
      "0       DARK             12.0            1013.0          70.0             1.0   \n",
      "1       DARK             12.0            1007.0          91.0             1.0   \n",
      "2      LIGHT             14.0            1025.0          64.0             0.0   \n",
      "3      LIGHT             15.0            1028.0          75.0             1.0   \n",
      "4      LIGHT             27.0            1020.0          52.0             1.0   \n",
      "\n",
      "   avg_precipitation   avg_rain  incidents  \n",
      "0                0.0  Sem Chuva       None  \n",
      "1                0.0  Sem Chuva       None  \n",
      "2                0.0  Sem Chuva        Low  \n",
      "3                0.0  Sem Chuva  Very_High  \n",
      "4                0.0  Sem Chuva       High  \n",
      "** CORR MATRIX **\n"
     ]
    },
    {
     "data": {
      "image/png": "[encoded data removed]",
      "text/plain": [
       "<Figure size 432x288 with 2 Axes>"
      ]
     },
     "metadata": {
      "needs_background": "light"
     },
     "output_type": "display_data"
    },
    {
     "name": "stdout",
     "output_type": "stream",
     "text": [
      "** NULL VALUES?? **\n",
      "city_name              0\n",
      "magnitude_of_delay     0\n",
      "delay_in_seconds       0\n",
      "affected_roads        85\n",
      "record_date            0\n",
      "luminosity             0\n",
      "avg_temperature        0\n",
      "avg_atm_pressure       0\n",
      "avg_humidity           0\n",
      "avg_wind_speed         0\n",
      "avg_precipitation      0\n",
      "avg_rain               0\n",
      "incidents              0\n",
      "dtype: int64\n",
      "** INFO **\n",
      "<class 'pandas.core.frame.DataFrame'>\n",
      "RangeIndex: 5000 entries, 0 to 4999\n",
      "Data columns (total 12 columns):\n",
      " #   Column              Non-Null Count  Dtype  \n",
      "---  ------              --------------  -----  \n",
      " 0   magnitude_of_delay  5000 non-null   int64  \n",
      " 1   delay_in_seconds    5000 non-null   int64  \n",
      " 2   luminosity          5000 non-null   int64  \n",
      " 3   avg_temperature     5000 non-null   float64\n",
      " 4   avg_atm_pressure    5000 non-null   float64\n",
      " 5   avg_humidity        5000 non-null   float64\n",
      " 6   avg_wind_speed      5000 non-null   float64\n",
      " 7   avg_rain            5000 non-null   int64  \n",
      " 8   incidents           5000 non-null   int64  \n",
      " 9   record_date_month   5000 non-null   int64  \n",
      " 10  record_date_day     5000 non-null   int64  \n",
      " 11  record_date_hour    5000 non-null   int64  \n",
      "dtypes: float64(4), int64(8)\n",
      "memory usage: 468.9 KB\n",
      "None\n",
      "** DESCRIBE **\n",
      "       magnitude_of_delay  delay_in_seconds   luminosity  avg_temperature  \\\n",
      "count         5000.000000       5000.000000  5000.000000      5000.000000   \n",
      "mean             2.727200        560.567000     1.539400        14.583000   \n",
      "std              0.685328       1686.859581     0.568254         4.820514   \n",
      "min              1.000000          0.000000     1.000000         1.000000   \n",
      "25%              3.000000          0.000000     1.000000        11.000000   \n",
      "50%              3.000000          0.000000     2.000000        14.000000   \n",
      "75%              3.000000        234.000000     2.000000        18.000000   \n",
      "max              3.000000      31083.000000     3.000000        35.000000   \n",
      "\n",
      "       avg_atm_pressure  avg_humidity  avg_wind_speed    avg_rain  \\\n",
      "count       5000.000000   5000.000000     5000.000000  5000.00000   \n",
      "mean        1018.145000     74.455000        1.253500     1.10240   \n",
      "std            5.174372     17.204638        1.269847     0.45821   \n",
      "min          997.000000      6.000000        0.000000     1.00000   \n",
      "25%         1015.000000     63.000000        0.000000     1.00000   \n",
      "50%         1019.000000     78.000000        1.000000     1.00000   \n",
      "75%         1022.000000     90.000000        2.000000     1.00000   \n",
      "max         1032.000000    100.000000       10.000000     4.00000   \n",
      "\n",
      "         incidents  record_date_month  record_date_day  record_date_hour  \n",
      "count  5000.000000        5000.000000      5000.000000       5000.000000  \n",
      "mean      3.074000           7.131600        15.888400         11.404800  \n",
      "std       1.372917           3.442129         8.734736          6.910404  \n",
      "min       1.000000           1.000000         1.000000          0.000000  \n",
      "25%       2.000000           4.000000         8.000000          5.000000  \n",
      "50%       4.000000           7.000000        16.000000         11.000000  \n",
      "75%       4.000000          10.000000        23.000000         17.000000  \n",
      "max       5.000000          12.000000        31.000000         23.000000  \n",
      "** HEAD **\n",
      "   magnitude_of_delay  delay_in_seconds  luminosity  avg_temperature  \\\n",
      "0                   3                 0           1             12.0   \n",
      "1                   3               385           1             12.0   \n",
      "2                   3                69           2             14.0   \n",
      "3                   1              2297           2             15.0   \n",
      "4                   3                 0           2             27.0   \n",
      "\n",
      "   avg_atm_pressure  avg_humidity  avg_wind_speed  avg_rain  incidents  \\\n",
      "0            1013.0          70.0             1.0         1          4   \n",
      "1            1007.0          91.0             1.0         1          4   \n",
      "2            1025.0          64.0             0.0         1          2   \n",
      "3            1028.0          75.0             1.0         1          5   \n",
      "4            1020.0          52.0             1.0         1          1   \n",
      "\n",
      "   record_date_month  record_date_day  record_date_hour  \n",
      "0                  3               15                23  \n",
      "1                 12               25                18  \n",
      "2                  3               12                15  \n",
      "3                  9               29                 9  \n",
      "4                  6               13                11  \n",
      "** CORR MATRIX **\n"
     ]
    },
    {
     "data": {
      "image/png": "[encoded data removed]",
      "text/plain": [
       "<Figure size 432x288 with 2 Axes>"
      ]
     },
     "metadata": {
      "needs_background": "light"
     },
     "output_type": "display_data"
    },
    {
     "name": "stdout",
     "output_type": "stream",
     "text": [
      "** NULL VALUES?? **\n",
      "magnitude_of_delay    0\n",
      "delay_in_seconds      0\n",
      "luminosity            0\n",
      "avg_temperature       0\n",
      "avg_atm_pressure      0\n",
      "avg_humidity          0\n",
      "avg_wind_speed        0\n",
      "avg_rain              0\n",
      "incidents             0\n",
      "record_date_month     0\n",
      "record_date_day       0\n",
      "record_date_hour      0\n",
      "dtype: int64\n",
      "              precision    recall  f1-score   support\n",
      "\n",
      "           1       0.87      0.90      0.88       305\n",
      "           2       0.86      0.90      0.88       211\n",
      "           3       0.88      0.76      0.82       185\n",
      "           4       0.97      0.98      0.97       622\n",
      "           5       0.90      0.91      0.91       177\n",
      "\n",
      "    accuracy                           0.92      1500\n",
      "   macro avg       0.90      0.89      0.89      1500\n",
      "weighted avg       0.92      0.92      0.91      1500\n",
      "\n",
      "0.9222000000000001\n"
     ]
    }
   ],
   "source": [
    "if __name__ == \"__main__\":\n",
    "    dataVisualization(df)\n",
    "    dictReplaceIncidents = getMapIncidents(df)\n",
    "    preprocessing(df, True)\n",
    "    dataVisualization(df)\n",
    "    \n",
    "    #dataVisualization(df)\n",
    "\n",
    "    test_model(df)\n",
    "    \n",
    "    #predict_doc(df)"
   ]
  },
  {
   "cell_type": "code",
   "execution_count": null,
   "id": "629dc62d-070b-4f56-b479-7cabdabcdb1a",
   "metadata": {},
   "outputs": [],
   "source": []
  }
 ],
 "metadata": {
  "kernelspec": {
   "display_name": "Python 3 (ipykernel)",
   "language": "python",
   "name": "python3"
  },
  "language_info": {
   "codemirror_mode": {
    "name": "ipython",
    "version": 3
   },
   "file_extension": ".py",
   "mimetype": "text/x-python",
   "name": "python",
   "nbconvert_exporter": "python",
   "pygments_lexer": "ipython3",
   "version": "3.8.10"
  }
 },
 "nbformat": 4,
 "nbformat_minor": 5
}
